{
 "cells": [
  {
   "cell_type": "code",
   "execution_count": 1,
   "id": "26c46d8c",
   "metadata": {},
   "outputs": [
    {
     "name": "stdout",
     "output_type": "stream",
     "text": [
      "what is your age?20\n",
      "your are able to vote.\n"
     ]
    }
   ],
   "source": [
    "age = int(input(\"what is your age?\"))\n",
    "\n",
    "if (age>18):\n",
    "    print(\"your are able to vote.\")\n",
    "else:\n",
    "    print(\"you cannot vote yet.\")\n",
    "    \n",
    "    \n",
    "    "
   ]
  },
  {
   "cell_type": "code",
   "execution_count": 3,
   "id": "d21fcebb",
   "metadata": {},
   "outputs": [
    {
     "name": "stdout",
     "output_type": "stream",
     "text": [
      "**********************\n",
      "1. Addition\n",
      "2. subtraction\n",
      "3. multiplication\n",
      "4. division\n",
      "**********************\n",
      "Enter your choice below:2\n",
      "Enter value for first number:50\n",
      "Enter value for second number21\n",
      "The Subtration of the two numbers is: 29\n"
     ]
    }
   ],
   "source": [
    "print(\"**********************\")\n",
    "print(\"1. Addition\")\n",
    "print(\"2. subtraction\")\n",
    "print(\"3. multiplication\")\n",
    "print(\"4. division\")\n",
    "print(\"**********************\")\n",
    "\n",
    "\n",
    "user_choice = int(input(\"Enter your choice below:\"))\n",
    "\n",
    "a = int(input(\"Enter value for first number:\"))\n",
    "b = int(input(\"Enter value for second number\"))\n",
    "\n",
    "if user_choice == 1:\n",
    "    print(f\"The Addition of the two numbers is: {a+b}\")\n",
    "elif user_choice == 2:\n",
    "    print(f\"The Subtration of the two numbers is: {a-b}\")\n",
    "elif user_choice == 3:\n",
    "    print(f\"The Multiplication is: {a*b}\")\n",
    "elif user_choice == 4:\n",
    "    print(f\"The Division is: {a/b}\")\n",
    "else:\n",
    "    print(\"wrong choice, please try again with correct integers.\")\n",
    "\n",
    "    "
   ]
  },
  {
   "cell_type": "code",
   "execution_count": 15,
   "id": "19afe096",
   "metadata": {},
   "outputs": [
    {
     "name": "stdout",
     "output_type": "stream",
     "text": [
      "max is :9\n",
      "min is :1\n"
     ]
    }
   ],
   "source": [
    "MyList = [4,5,1,3,2,8,9,7]\n",
    "\n",
    "print(f\"max is :{max(MyList)}\")\n",
    "print(f\"min is :{min(MyList)}\")\n"
   ]
  },
  {
   "cell_type": "code",
   "execution_count": 19,
   "id": "95b758ff",
   "metadata": {},
   "outputs": [
    {
     "name": "stdout",
     "output_type": "stream",
     "text": [
      "Enter value: 43\n",
      "this number is prime\n"
     ]
    }
   ],
   "source": [
    "num = int(input(\"Enter value: \"))\n",
    "\n",
    "if num > 1:\n",
    "    for i in range(2, (num//2)+1):\n",
    "        if num%2 == 0:\n",
    "            print(\"this number is not prime\")\n",
    "            break;\n",
    "    else: \n",
    "        print(\"this number is prime\")\n",
    "else:\n",
    "    print(\"tjis is not a prime number\")\n",
    "    "
   ]
  },
  {
   "cell_type": "code",
   "execution_count": null,
   "id": "c27e2ab1",
   "metadata": {},
   "outputs": [],
   "source": []
  }
 ],
 "metadata": {
  "kernelspec": {
   "display_name": "Python 3 (ipykernel)",
   "language": "python",
   "name": "python3"
  },
  "language_info": {
   "codemirror_mode": {
    "name": "ipython",
    "version": 3
   },
   "file_extension": ".py",
   "mimetype": "text/x-python",
   "name": "python",
   "nbconvert_exporter": "python",
   "pygments_lexer": "ipython3",
   "version": "3.10.9"
  }
 },
 "nbformat": 4,
 "nbformat_minor": 5
}
