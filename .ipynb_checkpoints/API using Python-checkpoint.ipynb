{
 "cells": [
  {
   "cell_type": "markdown",
   "id": "541ad356",
   "metadata": {},
   "source": [
    "# API in Python"
   ]
  },
  {
   "cell_type": "raw",
   "id": "f008fd87",
   "metadata": {},
   "source": [
    "import requests\n",
    "url = \"https://dog.ceo/api/breeds/image/random\""
   ]
  },
  {
   "cell_type": "code",
   "execution_count": null,
   "id": "3ccbef27",
   "metadata": {},
   "outputs": [],
   "source": []
  }
 ],
 "metadata": {
  "kernelspec": {
   "display_name": "Python 3 (ipykernel)",
   "language": "python",
   "name": "python3"
  },
  "language_info": {
   "codemirror_mode": {
    "name": "ipython",
    "version": 3
   },
   "file_extension": ".py",
   "mimetype": "text/x-python",
   "name": "python",
   "nbconvert_exporter": "python",
   "pygments_lexer": "ipython3",
   "version": "3.10.9"
  }
 },
 "nbformat": 4,
 "nbformat_minor": 5
}
